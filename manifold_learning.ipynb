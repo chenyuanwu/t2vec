{
 "cells": [
  {
   "cell_type": "code",
   "execution_count": 1,
   "outputs": [],
   "source": [
    "%matplotlib inline"
   ],
   "metadata": {
    "collapsed": false,
    "pycharm": {
     "name": "#%%\n",
     "is_executing": false
    }
   }
  },
  {
   "cell_type": "code",
   "execution_count": 8,
   "outputs": [
    {
     "data": {
      "text/plain": "[1020000,\n 1020000,\n 1020000,\n 1020000,\n 1020000,\n 1020000,\n 1020000,\n 1020000,\n 1020000,\n 1020000,\n 1020000,\n 1020000,\n 1020000,\n 1020000,\n 1020000,\n 1020000,\n 1020000,\n 1020000,\n 1020000,\n 1020000,\n 1020000,\n 1020000,\n 1020000,\n 1020000,\n 1020000,\n 1020000,\n 1020000,\n 1020000,\n 1020000,\n 1020000,\n 1020007,\n 1020007,\n 1020007,\n 1020007,\n 1020007,\n 1020007,\n 1020007,\n 1020007,\n 1020007,\n 1020007,\n 1020007,\n 1020007,\n 1020007,\n 1020007,\n 1020007,\n 1020007,\n 1020007,\n 1020007,\n 1020007,\n 1020007,\n 1020007,\n 1020007,\n 1020007,\n 1020007,\n 1020007,\n 1020007,\n 1020007,\n 1020007,\n 1020007,\n 1020007,\n 1020016,\n 1020016,\n 1020016,\n 1020016,\n 1020016,\n 1020016,\n 1020016,\n 1020016,\n 1020016,\n 1020016,\n 1020016,\n 1020016,\n 1020016,\n 1020016,\n 1020016,\n 1020016,\n 1020016,\n 1020016,\n 1020016,\n 1020016,\n 1020016,\n 1020016,\n 1020016,\n 1020016,\n 1020016,\n 1020016,\n 1020016,\n 1020016,\n 1020016,\n 1020016,\n 1020018,\n 1020018,\n 1020018,\n 1020018,\n 1020018,\n 1020018,\n 1020018,\n 1020018,\n 1020018,\n 1020018,\n 1020018,\n 1020018,\n 1020018,\n 1020018,\n 1020018,\n 1020018,\n 1020018,\n 1020018,\n 1020018,\n 1020018,\n 1020018,\n 1020018,\n 1020018,\n 1020018,\n 1020018,\n 1020018,\n 1020018,\n 1020018,\n 1020018,\n 1020018,\n 1020019,\n 1020019,\n 1020019,\n 1020019,\n 1020019,\n 1020019,\n 1020019,\n 1020019,\n 1020019,\n 1020019,\n 1020019,\n 1020019,\n 1020019,\n 1020019,\n 1020019,\n 1020019,\n 1020019,\n 1020019,\n 1020019,\n 1020019,\n 1020019,\n 1020019,\n 1020019,\n 1020019,\n 1020019,\n 1020019,\n 1020019,\n 1020019,\n 1020019,\n 1020019,\n 1020020,\n 1020020,\n 1020020,\n 1020020,\n 1020020,\n 1020020,\n 1020020,\n 1020020,\n 1020020,\n 1020020,\n 1020020,\n 1020020,\n 1020020,\n 1020020,\n 1020020,\n 1020020,\n 1020020,\n 1020020,\n 1020020,\n 1020020,\n 1020020,\n 1020020,\n 1020020,\n 1020020,\n 1020020,\n 1020020,\n 1020020,\n 1020020,\n 1020020,\n 1020020,\n 1020021,\n 1020021,\n 1020021,\n 1020021,\n 1020021,\n 1020021,\n 1020021,\n 1020021,\n 1020021,\n 1020021,\n 1020021,\n 1020021,\n 1020021,\n 1020021,\n 1020021,\n 1020021,\n 1020021,\n 1020021,\n 1020021,\n 1020021,\n 1020021,\n 1020021,\n 1020021,\n 1020021,\n 1020021,\n 1020021,\n 1020021,\n 1020021,\n 1020021,\n 1020021,\n 1020024,\n 1020024,\n 1020024,\n 1020024,\n 1020024,\n 1020024,\n 1020024,\n 1020024,\n 1020024,\n 1020024,\n 1020024,\n 1020024,\n 1020024,\n 1020024,\n 1020024,\n 1020024,\n 1020024,\n 1020024,\n 1020024,\n 1020024,\n 1020024,\n 1020024,\n 1020024,\n 1020024,\n 1020024,\n 1020024,\n 1020024,\n 1020024,\n 1020024,\n 1020024,\n 1020025,\n 1020025,\n 1020025,\n 1020025,\n 1020025,\n 1020025,\n 1020025,\n 1020025,\n 1020025,\n 1020025,\n 1020025,\n 1020025,\n 1020025,\n 1020025,\n 1020025,\n 1020025,\n 1020025,\n 1020025,\n 1020025,\n 1020025,\n 1020025,\n 1020025,\n 1020025,\n 1020025,\n 1020025,\n 1020025,\n 1020025,\n 1020025,\n 1020025,\n 1020025,\n 1020046,\n 1020046,\n 1020046,\n 1020046,\n 1020046,\n 1020046,\n 1020046,\n 1020046,\n 1020046,\n 1020046,\n 1020046,\n 1020046,\n 1020046,\n 1020046,\n 1020046,\n 1020046,\n 1020046,\n 1020046,\n 1020046,\n 1020046,\n 1020046,\n 1020046,\n 1020046,\n 1020046,\n 1020046,\n 1020046,\n 1020046,\n 1020046,\n 1020046,\n 1020046]"
     },
     "metadata": {},
     "output_type": "execute_result",
     "execution_count": 8
    }
   ],
   "source": [
    "import h5py\n",
    "import numpy as np\n",
    "\n",
    "with h5py.File(\"data/len10-var15-trj.h5\", \"r\") as f:\n",
    "    embedding_high = f[\"layer3\"][...]\n",
    "    embedding_high = np.array(embedding_high)\n",
    "\n",
    "labels = []\n",
    "with open(\"data/len10-var15-trj.label\", \"r\") as f:\n",
    "    for label in f:\n",
    "        labels.append(int(label))\n"
   ],
   "metadata": {
    "collapsed": false,
    "pycharm": {
     "name": "#%%\n",
     "is_executing": false
    }
   }
  },
  {
   "cell_type": "code",
   "execution_count": 16,
   "outputs": [
    {
     "name": "stdout",
     "text": [
      "[t-SNE] Computing pairwise distances...\n",
      "[t-SNE] Computed conditional probabilities for sample 300 / 300\n",
      "[t-SNE] Mean sigma: 4.723651\n",
      "[t-SNE] KL divergence after 250 iterations with early exaggeration: 41.140846\n",
      "[t-SNE] KL divergence after 1000 iterations: 0.015362\n"
     ],
     "output_type": "stream"
    },
    {
     "data": {
      "text/plain": "<Figure size 432x288 with 1 Axes>",
      "image/png": "[encoded data removed]"
     },
     "metadata": {
      "needs_background": "light"
     },
     "output_type": "display_data"
    }
   ],
   "source": [
    "from sklearn import manifold\n",
    "from time import time\n",
    "import matplotlib.pyplot as plt\n",
    "from matplotlib.ticker import NullFormatter\n",
    "\n",
    "perplexity = 30.0\n",
    "tsne = manifold.TSNE(perplexity=perplexity, init='random', verbose=1, method='exact')\n",
    "t0 = time()\n",
    "embedding_low = tsne.fit_transform(embedding_high)\n",
    "t1 = time()\n",
    "\n",
    "length = len(set(labels))\n",
    "variance = len(labels) // length\n",
    "colors = [idl for idl in range(length) for v in range(variance)]\n",
    "\n",
    "fig, ax = plt.subplots()\n",
    "ax.scatter(embedding_low[:, 0], embedding_low[:, 1], c=colors)\n",
    "ax.set_title(\"TSNE-len%d-diff%d-perp%.2f (%.2g sec)\" % (length, variance, perplexity, t1-t0))\n",
    "ax.xaxis.set_major_formatter(NullFormatter())\n",
    "ax.yaxis.set_major_formatter(NullFormatter())\n",
    "plt.show()"
   ],
   "metadata": {
    "collapsed": false,
    "pycharm": {
     "name": "#%%\n",
     "is_executing": false
    }
   }
  },
  {
   "cell_type": "code",
   "execution_count": 68,
   "outputs": [
    {
     "name": "stdout",
     "text": [
      "[t-SNE] Computing pairwise distances...\n",
      "[t-SNE] Computed conditional probabilities for sample 100 / 100\n",
      "[t-SNE] Mean sigma: 4.453178\n",
      "[t-SNE] KL divergence after 250 iterations with early exaggeration: 54.429163\n",
      "[t-SNE] KL divergence after 1500 iterations: 0.279103\n",
      "trj ids of group0: 1020159, 1020151, 1020149\n",
      "trj ids of group1: 1020229, 1020203, 1020209\n"
     ],
     "output_type": "stream"
    },
    {
     "data": {
      "text/plain": "<Figure size 432x288 with 1 Axes>",
      "image/png": "[encoded data removed]"
     },
     "metadata": {
      "needs_background": "light"
     },
     "output_type": "display_data"
    }
   ],
   "source": [
    "from sklearn.neighbors import NearestNeighbors\n",
    "with h5py.File(\"data/len100-var1-trj.h5\", \"r\") as f:\n",
    "    embedding_high = f[\"layer3\"][...]\n",
    "    embedding_high = np.array(embedding_high)\n",
    "\n",
    "labels = []\n",
    "with open(\"data/len100-var1-trj.label\", \"r\") as f:\n",
    "    for label in f:\n",
    "        labels.append(int(label))\n",
    "\n",
    "perplexity = 35.0\n",
    "tsne = manifold.TSNE(perplexity=perplexity, n_iter=3000, init='pca', verbose=1, method='exact')\n",
    "t0 = time()\n",
    "embedding_low = tsne.fit_transform(embedding_high)\n",
    "t1 = time()\n",
    "\n",
    "neigh = NearestNeighbors(n_neighbors=3, algorithm='kd_tree')\n",
    "neigh.fit(embedding_low)\n",
    "dist, idx = neigh.kneighbors(embedding_low)\n",
    "\n",
    "dist_sorted = [x for x, y in sorted(enumerate(dist), key=lambda x: x[1].sum())]\n",
    "highlights = [] # list[array[int32]]\n",
    "highlights.append(idx[dist_sorted[0]])\n",
    "highlights.append(idx[dist_sorted[3]])\n",
    "#highlights.append(idx[dist_sorted[6]])\n",
    "colors = np.zeros(len(labels))\n",
    "for i, h in enumerate(highlights):\n",
    "    colors[h] = i + 1\n",
    "    print(\"trj ids of group%d: %s\" % (i, \", \".join(map(str, np.array(labels)[h]))))\n",
    "  \n",
    "length = len(set(labels))\n",
    "variance = len(labels) // length\n",
    "fig, ax = plt.subplots()\n",
    "ax.scatter(embedding_low[:, 0], embedding_low[:, 1], s=5.0, c=colors)\n",
    "ax.set_title(\"TSNE-len%d-diff%d-perp%.2f (%.2g sec)\" % (length, variance, perplexity, t1-t0))\n",
    "ax.xaxis.set_major_formatter(NullFormatter())\n",
    "ax.yaxis.set_major_formatter(NullFormatter())\n",
    "plt.show()"
   ],
   "metadata": {
    "collapsed": false,
    "pycharm": {
     "name": "#%%\n",
     "is_executing": false
    }
   }
  },
  {
   "cell_type": "code",
   "execution_count": 69,
   "outputs": [
    {
     "data": {
      "text/plain": "True"
     },
     "metadata": {},
     "output_type": "execute_result",
     "execution_count": 69
    }
   ],
   "source": [
    "import folium\n",
    "import webbrowser\n",
    "\n",
    "trips_id = [(1020159, 1020151, 1020149), (1020229, 1020203, 1020209)]\n",
    "trips = []\n",
    "with h5py.File(\"data/trips.h5\", \"r\") as f:\n",
    "    for i, t in enumerate(trips_id):\n",
    "        trips.append([])\n",
    "        for id in t:\n",
    "            trip = np.array(f[\"/trips/\" + str(id)][...])\n",
    "            trips[i].append(np.column_stack((trip[:, 1], trip[:, 0])))\n",
    "\n",
    "\n",
    "m = folium.Map(location=[41.165514, -8.568513], zoom_start=13)\n",
    "colors = [\"red\", \"green\", \"blue\", \"yellow\"]\n",
    "for i, x in enumerate(trips):\n",
    "    for trip in x:\n",
    "        folium.PolyLine(trip.tolist(), weight=3, color=colors[i]).add_to(m)\n",
    "m.save(\"data/trips_vis.html\")\n",
    "webbrowser.open(\"data/trips_vis.html\")        \n"
   ],
   "metadata": {
    "collapsed": false,
    "pycharm": {
     "name": "#%%\n",
     "is_executing": false
    }
   }
  }
 ],
 "metadata": {
  "kernelspec": {
   "display_name": "Python 3",
   "language": "python",
   "name": "python3"
  },
  "language_info": {
   "codemirror_mode": {
    "name": "ipython",
    "version": 2
   },
   "file_extension": ".py",
   "mimetype": "text/x-python",
   "name": "python",
   "nbconvert_exporter": "python",
   "pygments_lexer": "ipython2",
   "version": "2.7.6"
  },
  "pycharm": {
   "stem_cell": {
    "cell_type": "raw",
    "source": [],
    "metadata": {
     "collapsed": false
    }
   }
  }
 },
 "nbformat": 4,
 "nbformat_minor": 0
}